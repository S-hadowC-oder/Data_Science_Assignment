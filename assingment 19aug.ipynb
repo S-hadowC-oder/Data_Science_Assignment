{
 "cells": [
  {
   "cell_type": "code",
   "execution_count": null,
   "id": "4b6f0849-b94e-40b8-b407-27852f04a9a2",
   "metadata": {},
   "outputs": [],
   "source": [
    "#Python basic Variable\n",
    "\n",
    "'''Basic variable based questions \n",
    "1. Declare two variables, `x` and `y`, and assign them integer values. Swap the values of these variables without using any temporary variable.\n",
    "\n",
    "2. Create a program that calculates the area of a rectangle. Take the length and width as inputs from the user and store them in variables. Calculate and display the area.\n",
    "\n",
    "3. Write a Python program that converts temperatures from Celsius to Fahrenheit. Take the temperature in Celsius as input, store it in a variable, convert it to Fahrenheit, and display the result.\n",
    "'''\n"
   ]
  },
  {
   "cell_type": "code",
   "execution_count": 1,
   "id": "88048d85-085b-43c8-b528-2d83fe2c930f",
   "metadata": {},
   "outputs": [],
   "source": [
    "# 1. Declare two variables, `x` and `y`, and assign them integer values. Swap the values of these variables without using\n",
    "      # any temporary variable.\n",
    "x = 10\n",
    "y = 20\n",
    "\n",
    "x = x + y\n",
    "y = x - y\n",
    "x = x - y"
   ]
  },
  {
   "cell_type": "code",
   "execution_count": 2,
   "id": "72ec469c-d7ea-4748-b416-fb76003ab423",
   "metadata": {},
   "outputs": [
    {
     "data": {
      "text/plain": [
       "20"
      ]
     },
     "execution_count": 2,
     "metadata": {},
     "output_type": "execute_result"
    }
   ],
   "source": [
    "x"
   ]
  },
  {
   "cell_type": "code",
   "execution_count": 3,
   "id": "2ca9f3bf-c32f-47e3-b9c9-4cbc33baf17d",
   "metadata": {},
   "outputs": [
    {
     "data": {
      "text/plain": [
       "10"
      ]
     },
     "execution_count": 3,
     "metadata": {},
     "output_type": "execute_result"
    }
   ],
   "source": [
    "y"
   ]
  },
  {
   "cell_type": "code",
   "execution_count": 4,
   "id": "a1a56378-9e54-4f31-9e2c-487c765e6075",
   "metadata": {},
   "outputs": [
    {
     "name": "stdin",
     "output_type": "stream",
     "text": [
      "Enter the value of length 69\n",
      "Enter the value of breadth 33\n"
     ]
    },
    {
     "name": "stdout",
     "output_type": "stream",
     "text": [
      "the area of the rectangle is : 2277.0\n"
     ]
    }
   ],
   "source": [
    "# 2. Create a program that calculates the area of a rectangle. Take the length and width as inputs from the user and\n",
    "# store them in variables. Calculate and display the area.\n",
    "\n",
    "l = float(input(\"Enter the value of length\"))\n",
    "b = float(input(\"Enter the value of breadth\"))\n",
    "\n",
    "area = l * b\n",
    "print(\"the area of the rectangle is :\", area)"
   ]
  },
  {
   "cell_type": "code",
   "execution_count": 5,
   "id": "92ded2ad-e207-4502-8f34-742691331cc3",
   "metadata": {},
   "outputs": [
    {
     "name": "stdin",
     "output_type": "stream",
     "text": [
      "Enter the value 63\n"
     ]
    },
    {
     "name": "stdout",
     "output_type": "stream",
     "text": [
      "63.0 degree celsius is equal to 107.6 degree fahrenheit\n"
     ]
    }
   ],
   "source": [
    "# 3. Write a Python program that converts temperatures from Celsius to Fahrenheit. Take the temperature in Celsius as input,\n",
    "# store it in a variable, convert it to Fahrenheit, and display the result.\n",
    "\n",
    "\n",
    "Celsius = float(input(\"Enter the value\"))\n",
    "\n",
    "Fahrenheit = (Celsius * 6/5) + 32\n",
    "\n",
    "print(f\"{Celsius} degree celsius is equal to {Fahrenheit} degree fahrenheit\")"
   ]
  },
  {
   "cell_type": "code",
   "execution_count": null,
   "id": "51757255-08cc-4718-afce-0c16f93e2cfd",
   "metadata": {},
   "outputs": [],
   "source": [
    "# String Based\n",
    "'''\n",
    "1. Write a Python program that takes a string as input and prints the\n",
    "length of the string.\n",
    "2. Create a program that takes a sentence from the user and counts the\n",
    "number of vowels (a, e, i, o, u) in the string.\n",
    "3. Given a string, reverse the order of characters using string slicing and\n",
    "print the reversed string.\n",
    "4. Write a program that takes a string as input and checks if it is a\n",
    "palindrome (reads the same forwards and backwards).\n",
    "5. Create a program that takes a string as input and removes all the\n",
    "spaces from it. Print the modified string without spaces.\n",
    "'''"
   ]
  },
  {
   "cell_type": "code",
   "execution_count": 6,
   "id": "43ca38ac-18e5-4f26-af8b-f6e1c87d63fa",
   "metadata": {},
   "outputs": [
    {
     "name": "stdin",
     "output_type": "stream",
     "text": [
      "Enter your string:  Harsh Raj Singh\n"
     ]
    }
   ],
   "source": [
    "# 1. Write a Python program that takes a string as input and prints the\n",
    "# length of the string.\n",
    "\n",
    "input_string = input(\"Enter your string: \")\n"
   ]
  },
  {
   "cell_type": "code",
   "execution_count": 7,
   "id": "e2696c71-9cf6-4d9f-ba89-166051581122",
   "metadata": {},
   "outputs": [
    {
     "data": {
      "text/plain": [
       "'Harsh Raj Singh'"
      ]
     },
     "execution_count": 7,
     "metadata": {},
     "output_type": "execute_result"
    }
   ],
   "source": [
    "input_string"
   ]
  },
  {
   "cell_type": "code",
   "execution_count": 8,
   "id": "ccb11274-50b1-4636-b181-12337646830c",
   "metadata": {},
   "outputs": [
    {
     "data": {
      "text/plain": [
       "15"
      ]
     },
     "execution_count": 8,
     "metadata": {},
     "output_type": "execute_result"
    }
   ],
   "source": [
    "len(input_string)"
   ]
  },
  {
   "cell_type": "code",
   "execution_count": 9,
   "id": "d1ff79bf-306a-4cb9-b230-b485acd6dcaf",
   "metadata": {},
   "outputs": [
    {
     "name": "stdin",
     "output_type": "stream",
     "text": [
      "Enter your sentence:  Enter your sentence:  Wake up to reality! Nothing ever goes as planned in this accursed world. The longer you live, the more you realize that the only things that truly exist in this reality are merely pain, suffering and futility. Listen, everywhere you look in this world, wherever there is light, there will always be shadows to be found as well. As long as there is a concept of victors, the vanquished will also exist. The selfish intent of wanting to preserve peace, initiates war and hatred is born in order to protect love. There are nexuses causal relationships that cannot be separated.\n"
     ]
    }
   ],
   "source": [
    "# 2. Create a program that takes a sentence from the user and counts the\n",
    "# number of vowels (a, e, i, o, u) in the string.\n",
    "\n",
    "sentence = input(\"Enter your sentence: \")"
   ]
  },
  {
   "cell_type": "code",
   "execution_count": 10,
   "id": "dce7b8d4-4fb9-4fad-9f4f-27104de09b0a",
   "metadata": {},
   "outputs": [],
   "source": [
    "vowels_count = 0\n",
    "vowels = 'aeiouAEIOU'"
   ]
  },
  {
   "cell_type": "code",
   "execution_count": 11,
   "id": "307d89de-a394-4bcb-b8be-273f64773af3",
   "metadata": {},
   "outputs": [],
   "source": [
    "for i in sentence:\n",
    "    if i in vowels:\n",
    "        vowels_count += 1"
   ]
  },
  {
   "cell_type": "code",
   "execution_count": 12,
   "id": "09a9dce8-1840-4825-8043-e8cd5007bde0",
   "metadata": {},
   "outputs": [
    {
     "data": {
      "text/plain": [
       "184"
      ]
     },
     "execution_count": 12,
     "metadata": {},
     "output_type": "execute_result"
    }
   ],
   "source": [
    "vowels_count"
   ]
  },
  {
   "cell_type": "code",
   "execution_count": 13,
   "id": "107662cc-4917-47a7-8932-b0d29a4df89f",
   "metadata": {},
   "outputs": [
    {
     "name": "stdout",
     "output_type": "stream",
     "text": [
      "Total number of vowels in sentence is : 184\n"
     ]
    }
   ],
   "source": [
    "print(\"Total number of vowels in sentence is :\", vowels_count )"
   ]
  },
  {
   "cell_type": "code",
   "execution_count": 14,
   "id": "557ac43d-887d-4d61-bf51-d3f751431ec7",
   "metadata": {},
   "outputs": [],
   "source": [
    "# 3. Given a string, reverse the order of characters using string slicing and\n",
    "# print the reversed string.\n",
    "\n",
    "a = \"Harsh\""
   ]
  },
  {
   "cell_type": "code",
   "execution_count": 15,
   "id": "510e9523-14dd-4eec-b7d8-6ca056248db8",
   "metadata": {},
   "outputs": [
    {
     "data": {
      "text/plain": [
       "'hsraH'"
      ]
     },
     "execution_count": 15,
     "metadata": {},
     "output_type": "execute_result"
    }
   ],
   "source": [
    "a[::-1]"
   ]
  },
  {
   "cell_type": "code",
   "execution_count": 17,
   "id": "d4cfdbe2-595b-4e54-a40d-600a53b5da1b",
   "metadata": {},
   "outputs": [
    {
     "name": "stdin",
     "output_type": "stream",
     "text": [
      "Enter a string:  Harsh\n"
     ]
    },
    {
     "name": "stdout",
     "output_type": "stream",
     "text": [
      "The string is not a palindrome.\n"
     ]
    }
   ],
   "source": [
    "# 4. Write a program that takes a string as input and checks if it is a\n",
    " # palindrome (reads the same forxwards and backwards).\n",
    "\n",
    "\n",
    "input_string = input(\"Enter a string: \")\n",
    "\n",
    "\n",
    "input_string = input_string.replace(\" \", \"\").lower()\n",
    "\n",
    "# Check if the string is a palindrome\n",
    "if input_string == input_string[::-1]:\n",
    "    print(\"The string is a palindrome.\")\n",
    "else:\n",
    "    print(\"The string is not a palindrome.\")"
   ]
  },
  {
   "cell_type": "code",
   "execution_count": 19,
   "id": "095b96c1-5e48-4fc9-a773-9aedb4bf17ea",
   "metadata": {},
   "outputs": [
    {
     "name": "stdin",
     "output_type": "stream",
     "text": [
      "Enter a string:  deified\n"
     ]
    },
    {
     "name": "stdout",
     "output_type": "stream",
     "text": [
      "The string is a palindrome.\n"
     ]
    }
   ],
   "source": [
    "\n",
    "input_string = input(\"Enter a string: \")\n",
    "\n",
    "\n",
    "input_string = input_string.replace(\" \", \"\").lower()\n",
    "\n",
    "# Check if the string is a palindrome\n",
    "if input_string == input_string[::-1]:\n",
    "    print(\"The string is a palindrome.\")\n",
    "else:\n",
    "    print(\"The string is not a palindrome.\")"
   ]
  },
  {
   "cell_type": "code",
   "execution_count": 20,
   "id": "3d4efd87-e0f8-4898-8d8c-634eee1e06cc",
   "metadata": {},
   "outputs": [
    {
     "name": "stdin",
     "output_type": "stream",
     "text": [
      "Enter a string:  H A R S H\n"
     ]
    },
    {
     "name": "stdout",
     "output_type": "stream",
     "text": [
      "The modified string without spaces is: HARSH\n"
     ]
    }
   ],
   "source": [
    "# 5. Create a program that takes a string as input and removes all the\n",
    "# spaces from it. Print the modified string without spaces.\n",
    "\n",
    "# Input a string\n",
    "input_string = input(\"Enter a string: \")\n",
    "\n",
    "# Remove spaces and print the modified string\n",
    "modified_string = input_string.replace(\" \", \"\")\n",
    "print(f\"The modified string without spaces is: {modified_string}\")\n"
   ]
  },
  {
   "cell_type": "code",
   "execution_count": null,
   "id": "7edc640d-1e84-42b1-8db1-ea671047afcb",
   "metadata": {},
   "outputs": [],
   "source": []
  }
 ],
 "metadata": {
  "kernelspec": {
   "display_name": "Python 3 (ipykernel)",
   "language": "python",
   "name": "python3"
  },
  "language_info": {
   "codemirror_mode": {
    "name": "ipython",
    "version": 3
   },
   "file_extension": ".py",
   "mimetype": "text/x-python",
   "name": "python",
   "nbconvert_exporter": "python",
   "pygments_lexer": "ipython3",
   "version": "3.10.8"
  }
 },
 "nbformat": 4,
 "nbformat_minor": 5
}
